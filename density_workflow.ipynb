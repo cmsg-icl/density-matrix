{
 "cells": [
  {
   "cell_type": "markdown",
   "id": "d08fddc9",
   "metadata": {},
   "source": [
    "# CRYSTAL convergence helper\n"
   ]
  },
  {
   "cell_type": "code",
   "execution_count": 44,
   "id": "443dd9e8",
   "metadata": {
    "scrolled": true
   },
   "outputs": [],
   "source": [
    "from crystal_functions.execute import runcry, runprop\n",
    "from crystal_functions.file_readwrite import Crystal_output, write_crystal_input, write_properties_input\n",
    "from crystal_functions.file_readwrite import write_crystal_gui, Crystal_input, cry_combine_density, Crystal_density\n",
    "from crystal_functions.calculate import cry_ads_energy\n",
    "from crystal_functions.adsorb import sub_ads_indices\n",
    "from crystal_functions.convert import cry_gui2pmg\n",
    "from crystal_functions.utils import view_pmg\n",
    "\n",
    "# pymatgen imports\n",
    "from pymatgen.core.structure import Molecule, Structure, Lattice\n",
    "from pymatgen.core.surface import SlabGenerator, generate_all_slabs\n",
    "from pymatgen.symmetry.analyzer import SpacegroupAnalyzer\n",
    "from pymatgen.analysis.adsorption import AdsorbateSiteFinder\n",
    "from pymatgen.ext.matproj import MPRester\n",
    "from pymatgen.io.ase import AseAtomsAdaptor\n",
    "from pymatgen.core.composition import Composition\n",
    "\n",
    "from ase.visualize import view\n",
    "\n",
    "import pandas as pd\n",
    "import shutil \n",
    "import numpy as np\n",
    "from copy import deepcopy"
   ]
  },
  {
   "cell_type": "code",
   "execution_count": 46,
   "id": "c7b854b2",
   "metadata": {},
   "outputs": [],
   "source": [
    "miller_indices = 'all'\n",
    "miller_indices = [[1,0,0]] #for testing purpouses\n",
    "thickness = 10"
   ]
  },
  {
   "cell_type": "markdown",
   "id": "e3489424",
   "metadata": {},
   "source": [
    "### Substrate"
   ]
  },
  {
   "cell_type": "code",
   "execution_count": 50,
   "id": "6d382969",
   "metadata": {},
   "outputs": [],
   "source": [
    "with MPRester(\"My-ID\") as m:    \n",
    "    #rutile = m.get_structure_by_material_id(\"mp-2657\")\n",
    "    mgo = m.get_structure_by_material_id(\"mp-1265\")\n",
    "    anatase = m.get_structure_by_material_id(\"mp-390\")\n",
    "    cu = m.get_structure_by_material_id(\"mp-30\")\n",
    "    iron = m.get_structure_by_material_id(\"mp-13\")\n",
    "mgo.add_oxidation_state_by_element({\"Mg\": 2, \"O\": -2})\n",
    "anatase.add_oxidation_state_by_element({\"Ti\": 4, \"O\": -2})\n",
    "materials = [mgo,anatase,cu,iron]\n",
    "materials = [mgo] #for testing purpouses "
   ]
  },
  {
   "cell_type": "markdown",
   "id": "0c0e3f8c",
   "metadata": {},
   "source": [
    "Ensure the conventional cell is used"
   ]
  },
  {
   "cell_type": "code",
   "execution_count": 51,
   "id": "47f36da7",
   "metadata": {},
   "outputs": [],
   "source": [
    "bulks = []\n",
    "for material in materials:\n",
    "    bulks.append(SpacegroupAnalyzer(material).get_conventional_standard_structure())"
   ]
  },
  {
   "cell_type": "markdown",
   "id": "45183632",
   "metadata": {},
   "source": [
    "### Adsorbate"
   ]
  },
  {
   "cell_type": "code",
   "execution_count": 47,
   "id": "246705aa",
   "metadata": {},
   "outputs": [],
   "source": [
    "h2o = Molecule('HHO',[[0.76,0.00,0.50],[-0.76, 0.00,0.50],[0.0, 0.0, 0.0]])\n",
    "co = Molecule('CO',[[0.0,0.00,0.50],[0.0, 0.0, 1.43]])\n",
    "h = Molecule('H',[[0.0,0.00,0.50]])\n",
    "adsorbates = [h2o,co,h]\n",
    "adsorbates = [h2o]#for testing purpouses "
   ]
  },
  {
   "cell_type": "markdown",
   "id": "44e383b8",
   "metadata": {},
   "source": [
    "### Generate the system"
   ]
  },
  {
   "cell_type": "code",
   "execution_count": 48,
   "id": "be5605b5",
   "metadata": {},
   "outputs": [],
   "source": [
    "def make_stroichiometric(slab,bulk):\n",
    "    initial_slab_len = len(slab.atomic_numbers)\n",
    "    while slab.composition.anonymized_formula !=  bulk.composition.anonymized_formula:\n",
    "        bottom_site = np.where(slab.cart_coords[:,2] == np.min(slab.cart_coords[:,2],axis=0))[0]\n",
    "        slab.remove_sites(bottom_site)\n",
    "        if len(slab.atomic_numbers) < initial_slab_len/2:\n",
    "            return None\n",
    "    return(slab)"
   ]
  },
  {
   "cell_type": "code",
   "execution_count": 52,
   "id": "c48042cd",
   "metadata": {},
   "outputs": [
    {
     "name": "stdout",
     "output_type": "stream",
     "text": [
      "(1, 0, 0) Mg2+6 O2-6 False\n"
     ]
    }
   ],
   "source": [
    "substrates =[]\n",
    "\n",
    "if miller_indices == 'all':\n",
    "    for bulk in bulks:\n",
    "        slabs = generate_all_slabs(bulk, max_index=1, min_slab_size=15, min_vacuum_size=10.0, \n",
    "                                       center_slab=True, symmetrize=True, in_unit_planes=False) \n",
    "        #Check if the slabs are stoichiometric\n",
    "        for slab in slabs:\n",
    "            if slab.composition.anonymized_formula ==  bulk.composition.anonymized_formula and slab.is_polar() == False:\n",
    "                substrates.append(slab)\n",
    "            else:\n",
    "                stoichiometric_slab = make_stroichiometric(slab,bulk)\n",
    "                if stoichiometric_slab is not None and stoichiometric_slab.is_polar == False:\n",
    "                    substrates.append(slab)\n",
    "                    \n",
    "elif type(miller_indices) == list:\n",
    "    for bulk in bulks:\n",
    "        slabs = []\n",
    "        for miller_index in miller_indices:\n",
    "            slab = SlabGenerator(bulk, miller_index, thickness, 10., center_slab=True, max_normal_search=5).get_slab()\n",
    "            if slab.composition.anonymized_formula ==  bulk.composition.anonymized_formula and slab.is_polar() == False:\n",
    "                substrates.append(slab)\n",
    "            else:\n",
    "                stoichiometric_slab = make_stroichiometric(slab,bulk)\n",
    "                if stoichiometric_slab is not None and stoichiometric_slab.is_polar == False:\n",
    "                    substrates.append(slab)\n",
    "        \n",
    "for slab in substrates:\n",
    "    print(slab.miller_index, slab.composition, slab.is_polar())"
   ]
  },
  {
   "cell_type": "code",
   "execution_count": 8,
   "id": "de7530fe",
   "metadata": {},
   "outputs": [
    {
     "data": {
      "text/plain": [
       "<Popen: returncode: None args: ['/Users/brunocamino/miniconda3/envs/test_env...>"
      ]
     },
     "execution_count": 8,
     "metadata": {},
     "output_type": "execute_result"
    }
   ],
   "source": [
    "view_pmg(substrates[-2])"
   ]
  },
  {
   "cell_type": "code",
   "execution_count": 53,
   "id": "efd123c2",
   "metadata": {},
   "outputs": [
    {
     "name": "stdout",
     "output_type": "stream",
     "text": [
      "Mg2+6 O2-6 False\n"
     ]
    }
   ],
   "source": [
    "sub_composition = []\n",
    "ads_composition = []\n",
    "miller_ind = []    \n",
    "n_layers = []\n",
    "sub_ads_structures = []\n",
    "for adsorbate in adsorbates:\n",
    "    for substrate in substrates:  \n",
    "        print(substrate.composition, substrate.is_polar())\n",
    "        adsorption_structures = AdsorbateSiteFinder(substrate).adsorb_both_surfaces(adsorbate,repeat=[1,1,1])  \n",
    "        for i,adsorption_structure in enumerate(adsorption_structures):\n",
    "            miller_ind.append(substrate.miller_index)\n",
    "            n_layers.append(len(np.unique(substrate.cart_coords[:,2])))  \n",
    "            sub_composition.append(substrate.composition.reduced_formula)\n",
    "            ads_composition.append(str(adsorbate.composition.hill_formula).replace(\" \", \"\"))\n",
    "            \n",
    "            labels1 = []\n",
    "            labels2 = []\n",
    "            for i,z in enumerate(adsorption_structure.frac_coords[:,2]):\n",
    "                if z < 0:\n",
    "                    labels1.append(i)\n",
    "                if z > 1:\n",
    "                    labels2.append(i)\n",
    "\n",
    "            adsorption_structure.translate_sites(labels1,[0.,0.,1.])\n",
    "            adsorption_structure.translate_sites(labels2,[0.,0.,-1.])\n",
    "            \n",
    "            sub_ads_structures.append(adsorption_structure)"
   ]
  },
  {
   "cell_type": "code",
   "execution_count": 54,
   "id": "49ed2c2d",
   "metadata": {},
   "outputs": [
    {
     "data": {
      "text/plain": [
       "4"
      ]
     },
     "execution_count": 54,
     "metadata": {},
     "output_type": "execute_result"
    }
   ],
   "source": [
    "len(sub_ads_structures)"
   ]
  },
  {
   "cell_type": "markdown",
   "id": "ced58856",
   "metadata": {},
   "source": [
    "## Prepare the inputs (SCF)"
   ]
  },
  {
   "cell_type": "code",
   "execution_count": 55,
   "id": "a74711d5",
   "metadata": {},
   "outputs": [],
   "source": [
    "geom_block = ['Adsorption tests\\n','EXTERNAL\\n']\n",
    "bs_block = ['BASISSET\\n', 'POB-DZVP\\n']\n",
    "func_block = ['DFT\\n', 'B3LYP\\n', 'XXLGRID\\n', 'ENDDFT\\n']\n",
    "scf_block = [['TOLINTEG\\n', '7 7 7 7 14\\n'],\n",
    "             ['SHRINK\\n', '12 24\\n'],\n",
    "             ['MAXCYCLE\\n', '500\\n'],\n",
    "             'DIIS\\n',\n",
    "             'ENDSCF\\n']"
   ]
  },
  {
   "cell_type": "markdown",
   "id": "4fe805fa",
   "metadata": {},
   "source": [
    "## Write the substrate/adsorbate input"
   ]
  },
  {
   "cell_type": "markdown",
   "id": "5882dfd9",
   "metadata": {},
   "source": [
    "## Merge densities"
   ]
  },
  {
   "cell_type": "code",
   "execution_count": 56,
   "id": "b84ad84a",
   "metadata": {},
   "outputs": [
    {
     "name": "stdout",
     "output_type": "stream",
     "text": [
      "qsub 1.qsub\n",
      "qsub 2.qsub\n",
      "qsub 3.qsub\n",
      "qsub 4.qsub\n"
     ]
    }
   ],
   "source": [
    "file_names = []\n",
    "#crystal_input = Crystal_input('data/test/crystal_input.d12')\n",
    "\n",
    "with open('data/calculations/qsub_input.qsub','r') as file:\n",
    "    qsub_input = file.readlines()\n",
    "\n",
    "geom_block = ['Adsorption tests\\n','EXTERNAL\\n']\n",
    "\n",
    "input_names = []\n",
    "for i,structure in enumerate(sub_ads_structures[0:50]):\n",
    "    input_name = 'data/calculations/'+str(sub_composition[i]).replace(\" \", \"\")+'_'+str(ads_composition[i]).replace(\" \", \"\")+'_' \\\n",
    "               +''.join(str(x) for x in structure.miller_index)+'_'+str(i+1)\n",
    "    input_names.append(input_name)\n",
    "    queue = qsub_input.copy()\n",
    "    queue[1] = '#PBS -N %s\\n'%(i+1)\n",
    "    \n",
    "    bs_block = ['BASISSET\\n', 'POB-DZVP\\n']\n",
    "    scf_block = [['TOLINTEG\\n', '7 7 7 7 14\\n'],\n",
    "             ['SHRINK\\n', '12 24\\n'],\n",
    "             ['MAXCYCLE\\n', '120\\n'],\n",
    "             'DIIS\\n',\n",
    "             'ENDSCF\\n']\n",
    "    \n",
    "    if 29 in structure.atomic_numbers:\n",
    "        func_block = ['DFT\\n', 'EXCHANGE\\n', 'PBE\\n', 'CORRELAT\\n', 'PBE\\n', 'XXLGRID\\n', 'ENDDFT\\n']\n",
    "    \n",
    "    elif 26 in structure.atomic_numbers:\n",
    "        iron_atoms = ' '.join(str(x) for x in np.where(np.array(structure.atomic_numbers) == 29)[0]+1)\n",
    "        func_block = ['DFT\\n', 'SPIN\\n','EXCHANGE\\n', 'PBE\\n', 'CORRELAT\\n', 'PBE\\n', 'XXLGRID\\n', 'ENDDFT\\n']\n",
    "        scf_block = [['TOLINTEG\\n', '7 7 7 7 14\\n'],\n",
    "             ['SHRINK\\n', '12 24\\n'],\n",
    "             ['MAXCYCLE\\n', '120\\n'],\n",
    "             'DIIS\\n',\n",
    "             'ATOMSPIN\\n',\n",
    "             '%s\\n'%len(iron_atoms),\n",
    "             '%s\\n'%iron_atoms,\n",
    "             'ENDSCF\\n']\n",
    "    else:\n",
    "        func_block = ['DFT\\n', 'B3LYP\\n', 'XXLGRID\\n', 'ENDDFT\\n']\n",
    "    \n",
    "    \n",
    "    file_names.append(input_name)\n",
    "    #write_crystal_input(input_name,crystal_blocks=[geom_block,bs_block,func_block,scf_block],external_obj=structure)\n",
    "    write_crystal_input(input_name+'.d12',crystal_blocks=[geom_block,bs_block,func_block,scf_block])\n",
    "    write_crystal_gui(input_name+'.gui',structure)\n",
    "    scf_block.insert(-1,'GUESSP\\n')\n",
    "    write_crystal_input(input_name+'_guessp.d12',crystal_blocks=[geom_block,bs_block,func_block,scf_block])\n",
    "    write_crystal_gui(input_name+'_guessp.gui',structure)\n",
    "    \n",
    "    indices = sub_ads_indices(structure)\n",
    "    #Write the substrate\n",
    "    \n",
    "    #sub_inp = deepcopy(crystal_input)\n",
    "    #sub_inp.add_ghost(indices['adsorbate'])\n",
    "    ghosts = indices['adsorbate']\n",
    "    bs_block.extend(['GHOSTS\\n','%s\\n'%len(ghosts),'%s\\n'%' '.join(str(x) for x in ghosts)])\n",
    "    sub_inp_name = '%s_sub'%input_name\n",
    "    write_crystal_input(sub_inp_name+'.d12',crystal_blocks=[geom_block,bs_block,func_block,scf_block])\n",
    "    write_crystal_gui(sub_inp_name+'.gui',structure)\n",
    "    \n",
    "    #Write the adsorbate\n",
    "    #indices = sub_ads_indices(structure)\n",
    "    #ads_inp = deepcopy(crystal_input)\n",
    "    #ads_inp.add_ghost(indices['substrate'])\n",
    "    ghosts = indices['substrate']\n",
    "    bs_block[-2] = '%s\\n'%len(ghosts)\n",
    "    bs_block[-1] = '%s\\n'%' '.join(str(x) for x in ghosts)\n",
    "    ads_inp_name = '%s_ads'%input_name\n",
    "    write_crystal_input(ads_inp_name+'.d12',crystal_blocks=[geom_block,bs_block,func_block,scf_block])\n",
    "    write_crystal_gui(ads_inp_name+'.gui',structure)\n",
    "    \n",
    "    queue.append('/rds/general/user/gmallia/home/CRYSTAL17_cx1/v2.2gnu/runcryP %s\\n'%input_name[18:])\n",
    "    queue.append('/rds/general/user/gmallia/home/CRYSTAL17_cx1/v2.2gnu/runcryP %s\\n'%sub_inp_name[18:])\n",
    "    queue.append('/rds/general/user/gmallia/home/CRYSTAL17_cx1/v2.2gnu/runcryP %s\\n'%ads_inp_name[18:])\n",
    "    \n",
    "    with open('data/calculations/%s.qsub'%(i+1), 'w') as file:\n",
    "        file.writelines(queue)\n",
    "    print('qsub %s.qsub'%(i+1))"
   ]
  },
  {
   "cell_type": "code",
   "execution_count": 30,
   "id": "e63b1166",
   "metadata": {},
   "outputs": [],
   "source": [
    "import sys\n",
    "sys.path.insert(1, '../../crystal-code-tools/crystal_functions/crystal_functions/')\n",
    "from file_readwrite import cry_combine_density, Crystal_input\n",
    "\n",
    "with open('data/test/qsub_input.qsub','r') as file:\n",
    "    qsub_input = file.readlines()\n",
    "\n",
    "queue = qsub_input.copy()\n",
    "queue[1] = '#PBS -N prop\\n'\n",
    "\n",
    "prop_block = ['RDFMWF\\n','END']\n",
    "\n",
    "for structure in input_names[0:10]:\n",
    "    density1 = '%s_sub.f98'%structure\n",
    "    density2 = '%s_ads.f98'%structure\n",
    "    density3 = '%s.f98'%structure\n",
    "    write_properties_input('%s_guessp.d3'%structure,prop_block)\n",
    "    cry_combine_density(density1,density2,density3,new_density='%s_guessp.f98'%structure)\n",
    "    #runprop('%s_guessp.d3'%structure,'%s_guessp.f98'%structure)\n",
    "    queue.append('/rds/general/user/gmallia/home/CRYSTAL17_cx1/v2.2gnu/runpropP %s_guessp %s_guessp\\n'%(structure[18:], structure[18:]))\n",
    "    \n",
    "with open('data/calculations/properties.qsub', 'w') as file:\n",
    "    file.writelines(queue)\n"
   ]
  },
  {
   "cell_type": "markdown",
   "id": "aee5f6fe",
   "metadata": {},
   "source": [
    "### Write qsub GUESSP"
   ]
  },
  {
   "cell_type": "code",
   "execution_count": 40,
   "id": "35fc78fa",
   "metadata": {},
   "outputs": [
    {
     "name": "stdout",
     "output_type": "stream",
     "text": [
      "qsub 1_guessp.qsub\n",
      "qsub 2_guessp.qsub\n",
      "qsub 3_guessp.qsub\n",
      "qsub 4_guessp.qsub\n",
      "qsub 5_guessp.qsub\n",
      "qsub 6_guessp.qsub\n",
      "qsub 7_guessp.qsub\n",
      "qsub 8_guessp.qsub\n",
      "qsub 9_guessp.qsub\n",
      "qsub 10_guessp.qsub\n"
     ]
    }
   ],
   "source": [
    "with open('data/test/qsub_input.qsub','r') as file:\n",
    "    qsub_input = file.readlines()\n",
    "queue = qsub_input.copy()\n",
    "\n",
    "for i,structure in enumerate(input_names[0:10]):\n",
    "    queue = qsub_input.copy()\n",
    "    queue[1] = '#PBS -N %s_guessp\\n'%(i+1)\n",
    "    queue.append('/rds/general/user/gmallia/home/CRYSTAL17_cx1/v2.2gnu/runcryP %s_guessp %s_guessp\\n'%(structure[18:],structure[18:]))\n",
    "    \n",
    "    with open('data/calculations/%s_guessp.qsub'%(i+1), 'w') as file:\n",
    "        file.writelines(queue)\n",
    "    print('qsub %s_guessp.qsub'%(i+1))"
   ]
  },
  {
   "cell_type": "markdown",
   "id": "f5dbb0a7",
   "metadata": {},
   "source": [
    "### Write GUESSP input"
   ]
  },
  {
   "cell_type": "code",
   "execution_count": 36,
   "id": "1c1ceef5",
   "metadata": {
    "collapsed": true
   },
   "outputs": [
    {
     "name": "stdout",
     "output_type": "stream",
     "text": [
      "data/calculations/MgO_H2O_110_1.d12 ['B3LYP\\n', 'XXLGRID\\n', 'ENDDFT\\n', ['TOLINTEG\\n', '7 7 7 7 14\\n'], ['SHRINK\\n', '12 24\\n'], 'ENDSCF\\n']\n",
      "data/calculations/MgO_H2O_110_2.d12 ['B3LYP\\n', 'XXLGRID\\n', 'ENDDFT\\n', ['TOLINTEG\\n', '7 7 7 7 14\\n'], ['SHRINK\\n', '12 24\\n'], 'ENDSCF\\n']\n",
      "data/calculations/MgO_H2O_110_3.d12 ['B3LYP\\n', 'XXLGRID\\n', 'ENDDFT\\n', ['TOLINTEG\\n', '7 7 7 7 14\\n'], ['SHRINK\\n', '12 24\\n'], 'ENDSCF\\n']\n",
      "data/calculations/MgO_H2O_110_4.d12 ['B3LYP\\n', 'XXLGRID\\n', 'ENDDFT\\n', ['TOLINTEG\\n', '7 7 7 7 14\\n'], ['SHRINK\\n', '12 24\\n'], 'ENDSCF\\n']\n",
      "data/calculations/MgO_H2O_110_5.d12 ['B3LYP\\n', 'XXLGRID\\n', 'ENDDFT\\n', ['TOLINTEG\\n', '7 7 7 7 14\\n'], ['SHRINK\\n', '12 24\\n'], 'ENDSCF\\n']\n",
      "data/calculations/MgO_H2O_110_6.d12 ['B3LYP\\n', 'XXLGRID\\n', 'ENDDFT\\n', ['TOLINTEG\\n', '7 7 7 7 14\\n'], ['SHRINK\\n', '12 24\\n'], 'ENDSCF\\n']\n",
      "data/calculations/MgO_H2O_100_7.d12 ['B3LYP\\n', 'XXLGRID\\n', 'ENDDFT\\n', ['TOLINTEG\\n', '7 7 7 7 14\\n'], ['SHRINK\\n', '12 24\\n'], 'ENDSCF\\n']\n",
      "data/calculations/MgO_H2O_100_8.d12 ['B3LYP\\n', 'XXLGRID\\n', 'ENDDFT\\n', ['TOLINTEG\\n', '7 7 7 7 14\\n'], ['SHRINK\\n', '12 24\\n'], 'ENDSCF\\n']\n",
      "data/calculations/MgO_H2O_100_9.d12 ['B3LYP\\n', 'XXLGRID\\n', 'ENDDFT\\n', ['TOLINTEG\\n', '7 7 7 7 14\\n'], ['SHRINK\\n', '12 24\\n'], 'ENDSCF\\n']\n",
      "data/calculations/MgO_H2O_100_10.d12 ['B3LYP\\n', 'XXLGRID\\n', 'ENDDFT\\n', ['TOLINTEG\\n', '7 7 7 7 14\\n'], ['SHRINK\\n', '12 24\\n'], 'ENDSCF\\n']\n"
     ]
    }
   ],
   "source": [
    "import sys\n",
    "sys.path.insert(1, '../../crystal-code-tools/crystal_functions/crystal_functions/')\n",
    "from file_readwrite import cry_combine_density, Crystal_input\n",
    "\n",
    "for structure in input_names[0:10]:\n",
    "    crystal_input = Crystal_input('%s.d12'%structure)\n",
    "    crystal_input.add_guessp()\n",
    "    write_crystal_input('%s_guessp.d12'%structure,crystal_input=crystal_input)"
   ]
  },
  {
   "cell_type": "markdown",
   "id": "6dc0fbc5",
   "metadata": {},
   "source": [
    "## Display results"
   ]
  },
  {
   "cell_type": "code",
   "execution_count": 28,
   "id": "0fcba9cd",
   "metadata": {
    "collapsed": true
   },
   "outputs": [
    {
     "name": "stderr",
     "output_type": "stream",
     "text": [
      "ERROR:root:Internal Python error in the inspect module.\n",
      "Below is the traceback from this internal error.\n",
      "\n"
     ]
    },
    {
     "name": "stdout",
     "output_type": "stream",
     "text": [
      "EXITING: a .out file needs to be specified\n",
      "Traceback (most recent call last):\n",
      "  File \"/Users/brunocamino/miniconda3/envs/test_env/lib/python3.9/site-packages/crystal_functions/file_readwrite.py\", line 131, in __init__\n",
      "    file = open(output_name, 'r')\n",
      "FileNotFoundError: [Errno 2] No such file or directory: 'data/calculations/MgO_H2O_110_1_guessp.out'\n",
      "\n",
      "During handling of the above exception, another exception occurred:\n",
      "\n",
      "Traceback (most recent call last):\n",
      "  File \"/Users/brunocamino/miniconda3/envs/test_env/lib/python3.9/site-packages/IPython/core/interactiveshell.py\", line 3457, in run_code\n",
      "    exec(code_obj, self.user_global_ns, self.user_ns)\n",
      "  File \"/var/folders/f2/8kc7y9697m59bwltxjd42y300000gn/T/ipykernel_26862/296530512.py\", line 24, in <module>\n",
      "    output_guessp = Crystal_output('%s_guessp.out'%structure)\n",
      "  File \"/Users/brunocamino/miniconda3/envs/test_env/lib/python3.9/site-packages/crystal_functions/file_readwrite.py\", line 136, in __init__\n",
      "    sys.exit(1)\n",
      "SystemExit: 1\n",
      "\n",
      "During handling of the above exception, another exception occurred:\n",
      "\n",
      "Traceback (most recent call last):\n",
      "  File \"/Users/brunocamino/miniconda3/envs/test_env/lib/python3.9/site-packages/IPython/core/ultratb.py\", line 1101, in get_records\n",
      "    return _fixed_getinnerframes(etb, number_of_lines_of_context, tb_offset)\n",
      "  File \"/Users/brunocamino/miniconda3/envs/test_env/lib/python3.9/site-packages/IPython/core/ultratb.py\", line 248, in wrapped\n",
      "    return f(*args, **kwargs)\n",
      "  File \"/Users/brunocamino/miniconda3/envs/test_env/lib/python3.9/site-packages/IPython/core/ultratb.py\", line 281, in _fixed_getinnerframes\n",
      "    records = fix_frame_records_filenames(inspect.getinnerframes(etb, context))\n",
      "  File \"/Users/brunocamino/miniconda3/envs/test_env/lib/python3.9/inspect.py\", line 1543, in getinnerframes\n",
      "    frameinfo = (tb.tb_frame,) + getframeinfo(tb, context)\n",
      "AttributeError: 'tuple' object has no attribute 'tb_frame'\n"
     ]
    },
    {
     "ename": "TypeError",
     "evalue": "object of type 'NoneType' has no len()",
     "output_type": "error",
     "traceback": [
      "\u001b[0;31m---------------------------------------------------------------------------\u001b[0m",
      "\u001b[0;31mFileNotFoundError\u001b[0m                         Traceback (most recent call last)",
      "\u001b[0;32m~/miniconda3/envs/test_env/lib/python3.9/site-packages/crystal_functions/file_readwrite.py\u001b[0m in \u001b[0;36m__init__\u001b[0;34m(self, output_name)\u001b[0m\n\u001b[1;32m    130\u001b[0m                 \u001b[0moutput_name\u001b[0m \u001b[0;34m=\u001b[0m \u001b[0moutput_name\u001b[0m\u001b[0;34m+\u001b[0m\u001b[0;34m'.out'\u001b[0m\u001b[0;34m\u001b[0m\u001b[0;34m\u001b[0m\u001b[0m\n\u001b[0;32m--> 131\u001b[0;31m             \u001b[0mfile\u001b[0m \u001b[0;34m=\u001b[0m \u001b[0mopen\u001b[0m\u001b[0;34m(\u001b[0m\u001b[0moutput_name\u001b[0m\u001b[0;34m,\u001b[0m \u001b[0;34m'r'\u001b[0m\u001b[0;34m)\u001b[0m\u001b[0;34m\u001b[0m\u001b[0;34m\u001b[0m\u001b[0m\n\u001b[0m\u001b[1;32m    132\u001b[0m             \u001b[0mself\u001b[0m\u001b[0;34m.\u001b[0m\u001b[0mdata\u001b[0m \u001b[0;34m=\u001b[0m \u001b[0mfile\u001b[0m\u001b[0;34m.\u001b[0m\u001b[0mreadlines\u001b[0m\u001b[0;34m(\u001b[0m\u001b[0;34m)\u001b[0m\u001b[0;34m\u001b[0m\u001b[0;34m\u001b[0m\u001b[0m\n",
      "\u001b[0;31mFileNotFoundError\u001b[0m: [Errno 2] No such file or directory: 'data/calculations/MgO_H2O_110_1_guessp.out'",
      "\nDuring handling of the above exception, another exception occurred:\n",
      "\u001b[0;31mSystemExit\u001b[0m                                Traceback (most recent call last)",
      "    \u001b[0;31m[... skipping hidden 1 frame]\u001b[0m\n",
      "\u001b[0;32m/var/folders/f2/8kc7y9697m59bwltxjd42y300000gn/T/ipykernel_26862/296530512.py\u001b[0m in \u001b[0;36m<module>\u001b[0;34m\u001b[0m\n\u001b[1;32m     23\u001b[0m \u001b[0;34m\u001b[0m\u001b[0m\n\u001b[0;32m---> 24\u001b[0;31m     \u001b[0moutput_guessp\u001b[0m \u001b[0;34m=\u001b[0m \u001b[0mCrystal_output\u001b[0m\u001b[0;34m(\u001b[0m\u001b[0;34m'%s_guessp.out'\u001b[0m\u001b[0;34m%\u001b[0m\u001b[0mstructure\u001b[0m\u001b[0;34m)\u001b[0m\u001b[0;34m\u001b[0m\u001b[0;34m\u001b[0m\u001b[0m\n\u001b[0m\u001b[1;32m     25\u001b[0m     \u001b[0;32mif\u001b[0m \u001b[0moutput_guessp\u001b[0m\u001b[0;34m.\u001b[0m\u001b[0mconverged\u001b[0m \u001b[0;34m==\u001b[0m \u001b[0;32mTrue\u001b[0m\u001b[0;34m:\u001b[0m\u001b[0;34m\u001b[0m\u001b[0;34m\u001b[0m\u001b[0m\n",
      "\u001b[0;32m~/miniconda3/envs/test_env/lib/python3.9/site-packages/crystal_functions/file_readwrite.py\u001b[0m in \u001b[0;36m__init__\u001b[0;34m(self, output_name)\u001b[0m\n\u001b[1;32m    135\u001b[0m             \u001b[0mprint\u001b[0m\u001b[0;34m(\u001b[0m\u001b[0;34m'EXITING: a .out file needs to be specified'\u001b[0m\u001b[0;34m)\u001b[0m\u001b[0;34m\u001b[0m\u001b[0;34m\u001b[0m\u001b[0m\n\u001b[0;32m--> 136\u001b[0;31m             \u001b[0msys\u001b[0m\u001b[0;34m.\u001b[0m\u001b[0mexit\u001b[0m\u001b[0;34m(\u001b[0m\u001b[0;36m1\u001b[0m\u001b[0;34m)\u001b[0m\u001b[0;34m\u001b[0m\u001b[0;34m\u001b[0m\u001b[0m\n\u001b[0m\u001b[1;32m    137\u001b[0m \u001b[0;34m\u001b[0m\u001b[0m\n",
      "\u001b[0;31mSystemExit\u001b[0m: 1",
      "\nDuring handling of the above exception, another exception occurred:\n",
      "\u001b[0;31mTypeError\u001b[0m                                 Traceback (most recent call last)",
      "    \u001b[0;31m[... skipping hidden 1 frame]\u001b[0m\n",
      "\u001b[0;32m~/miniconda3/envs/test_env/lib/python3.9/site-packages/IPython/core/interactiveshell.py\u001b[0m in \u001b[0;36mshowtraceback\u001b[0;34m(self, exc_tuple, filename, tb_offset, exception_only, running_compiled_code)\u001b[0m\n\u001b[1;32m   2068\u001b[0m                     stb = ['An exception has occurred, use %tb to see '\n\u001b[1;32m   2069\u001b[0m                            'the full traceback.\\n']\n\u001b[0;32m-> 2070\u001b[0;31m                     stb.extend(self.InteractiveTB.get_exception_only(etype,\n\u001b[0m\u001b[1;32m   2071\u001b[0m                                                                      value))\n\u001b[1;32m   2072\u001b[0m                 \u001b[0;32melse\u001b[0m\u001b[0;34m:\u001b[0m\u001b[0;34m\u001b[0m\u001b[0;34m\u001b[0m\u001b[0m\n",
      "\u001b[0;32m~/miniconda3/envs/test_env/lib/python3.9/site-packages/IPython/core/ultratb.py\u001b[0m in \u001b[0;36mget_exception_only\u001b[0;34m(self, etype, value)\u001b[0m\n\u001b[1;32m    752\u001b[0m         \u001b[0mvalue\u001b[0m \u001b[0;34m:\u001b[0m \u001b[0mexception\u001b[0m \u001b[0mvalue\u001b[0m\u001b[0;34m\u001b[0m\u001b[0;34m\u001b[0m\u001b[0m\n\u001b[1;32m    753\u001b[0m         \"\"\"\n\u001b[0;32m--> 754\u001b[0;31m         \u001b[0;32mreturn\u001b[0m \u001b[0mListTB\u001b[0m\u001b[0;34m.\u001b[0m\u001b[0mstructured_traceback\u001b[0m\u001b[0;34m(\u001b[0m\u001b[0mself\u001b[0m\u001b[0;34m,\u001b[0m \u001b[0metype\u001b[0m\u001b[0;34m,\u001b[0m \u001b[0mvalue\u001b[0m\u001b[0;34m)\u001b[0m\u001b[0;34m\u001b[0m\u001b[0;34m\u001b[0m\u001b[0m\n\u001b[0m\u001b[1;32m    755\u001b[0m \u001b[0;34m\u001b[0m\u001b[0m\n\u001b[1;32m    756\u001b[0m     \u001b[0;32mdef\u001b[0m \u001b[0mshow_exception_only\u001b[0m\u001b[0;34m(\u001b[0m\u001b[0mself\u001b[0m\u001b[0;34m,\u001b[0m \u001b[0metype\u001b[0m\u001b[0;34m,\u001b[0m \u001b[0mevalue\u001b[0m\u001b[0;34m)\u001b[0m\u001b[0;34m:\u001b[0m\u001b[0;34m\u001b[0m\u001b[0;34m\u001b[0m\u001b[0m\n",
      "\u001b[0;32m~/miniconda3/envs/test_env/lib/python3.9/site-packages/IPython/core/ultratb.py\u001b[0m in \u001b[0;36mstructured_traceback\u001b[0;34m(self, etype, evalue, etb, tb_offset, context)\u001b[0m\n\u001b[1;32m    627\u001b[0m             \u001b[0mchained_exceptions_tb_offset\u001b[0m \u001b[0;34m=\u001b[0m \u001b[0;36m0\u001b[0m\u001b[0;34m\u001b[0m\u001b[0;34m\u001b[0m\u001b[0m\n\u001b[1;32m    628\u001b[0m             out_list = (\n\u001b[0;32m--> 629\u001b[0;31m                 self.structured_traceback(\n\u001b[0m\u001b[1;32m    630\u001b[0m                     \u001b[0metype\u001b[0m\u001b[0;34m,\u001b[0m \u001b[0mevalue\u001b[0m\u001b[0;34m,\u001b[0m \u001b[0;34m(\u001b[0m\u001b[0metb\u001b[0m\u001b[0;34m,\u001b[0m \u001b[0mchained_exc_ids\u001b[0m\u001b[0;34m)\u001b[0m\u001b[0;34m,\u001b[0m\u001b[0;34m\u001b[0m\u001b[0;34m\u001b[0m\u001b[0m\n\u001b[1;32m    631\u001b[0m                     chained_exceptions_tb_offset, context)\n",
      "\u001b[0;32m~/miniconda3/envs/test_env/lib/python3.9/site-packages/IPython/core/ultratb.py\u001b[0m in \u001b[0;36mstructured_traceback\u001b[0;34m(self, etype, value, tb, tb_offset, number_of_lines_of_context)\u001b[0m\n\u001b[1;32m   1365\u001b[0m         \u001b[0;32melse\u001b[0m\u001b[0;34m:\u001b[0m\u001b[0;34m\u001b[0m\u001b[0;34m\u001b[0m\u001b[0m\n\u001b[1;32m   1366\u001b[0m             \u001b[0mself\u001b[0m\u001b[0;34m.\u001b[0m\u001b[0mtb\u001b[0m \u001b[0;34m=\u001b[0m \u001b[0mtb\u001b[0m\u001b[0;34m\u001b[0m\u001b[0;34m\u001b[0m\u001b[0m\n\u001b[0;32m-> 1367\u001b[0;31m         return FormattedTB.structured_traceback(\n\u001b[0m\u001b[1;32m   1368\u001b[0m             self, etype, value, tb, tb_offset, number_of_lines_of_context)\n\u001b[1;32m   1369\u001b[0m \u001b[0;34m\u001b[0m\u001b[0m\n",
      "\u001b[0;32m~/miniconda3/envs/test_env/lib/python3.9/site-packages/IPython/core/ultratb.py\u001b[0m in \u001b[0;36mstructured_traceback\u001b[0;34m(self, etype, value, tb, tb_offset, number_of_lines_of_context)\u001b[0m\n\u001b[1;32m   1265\u001b[0m         \u001b[0;32mif\u001b[0m \u001b[0mmode\u001b[0m \u001b[0;32min\u001b[0m \u001b[0mself\u001b[0m\u001b[0;34m.\u001b[0m\u001b[0mverbose_modes\u001b[0m\u001b[0;34m:\u001b[0m\u001b[0;34m\u001b[0m\u001b[0;34m\u001b[0m\u001b[0m\n\u001b[1;32m   1266\u001b[0m             \u001b[0;31m# Verbose modes need a full traceback\u001b[0m\u001b[0;34m\u001b[0m\u001b[0;34m\u001b[0m\u001b[0m\n\u001b[0;32m-> 1267\u001b[0;31m             return VerboseTB.structured_traceback(\n\u001b[0m\u001b[1;32m   1268\u001b[0m                 \u001b[0mself\u001b[0m\u001b[0;34m,\u001b[0m \u001b[0metype\u001b[0m\u001b[0;34m,\u001b[0m \u001b[0mvalue\u001b[0m\u001b[0;34m,\u001b[0m \u001b[0mtb\u001b[0m\u001b[0;34m,\u001b[0m \u001b[0mtb_offset\u001b[0m\u001b[0;34m,\u001b[0m \u001b[0mnumber_of_lines_of_context\u001b[0m\u001b[0;34m\u001b[0m\u001b[0;34m\u001b[0m\u001b[0m\n\u001b[1;32m   1269\u001b[0m             )\n",
      "\u001b[0;32m~/miniconda3/envs/test_env/lib/python3.9/site-packages/IPython/core/ultratb.py\u001b[0m in \u001b[0;36mstructured_traceback\u001b[0;34m(self, etype, evalue, etb, tb_offset, number_of_lines_of_context)\u001b[0m\n\u001b[1;32m   1122\u001b[0m         \u001b[0;34m\"\"\"Return a nice text document describing the traceback.\"\"\"\u001b[0m\u001b[0;34m\u001b[0m\u001b[0;34m\u001b[0m\u001b[0m\n\u001b[1;32m   1123\u001b[0m \u001b[0;34m\u001b[0m\u001b[0m\n\u001b[0;32m-> 1124\u001b[0;31m         formatted_exception = self.format_exception_as_a_whole(etype, evalue, etb, number_of_lines_of_context,\n\u001b[0m\u001b[1;32m   1125\u001b[0m                                                                tb_offset)\n\u001b[1;32m   1126\u001b[0m \u001b[0;34m\u001b[0m\u001b[0m\n",
      "\u001b[0;32m~/miniconda3/envs/test_env/lib/python3.9/site-packages/IPython/core/ultratb.py\u001b[0m in \u001b[0;36mformat_exception_as_a_whole\u001b[0;34m(self, etype, evalue, etb, number_of_lines_of_context, tb_offset)\u001b[0m\n\u001b[1;32m   1080\u001b[0m \u001b[0;34m\u001b[0m\u001b[0m\n\u001b[1;32m   1081\u001b[0m \u001b[0;34m\u001b[0m\u001b[0m\n\u001b[0;32m-> 1082\u001b[0;31m         \u001b[0mlast_unique\u001b[0m\u001b[0;34m,\u001b[0m \u001b[0mrecursion_repeat\u001b[0m \u001b[0;34m=\u001b[0m \u001b[0mfind_recursion\u001b[0m\u001b[0;34m(\u001b[0m\u001b[0morig_etype\u001b[0m\u001b[0;34m,\u001b[0m \u001b[0mevalue\u001b[0m\u001b[0;34m,\u001b[0m \u001b[0mrecords\u001b[0m\u001b[0;34m)\u001b[0m\u001b[0;34m\u001b[0m\u001b[0;34m\u001b[0m\u001b[0m\n\u001b[0m\u001b[1;32m   1083\u001b[0m \u001b[0;34m\u001b[0m\u001b[0m\n\u001b[1;32m   1084\u001b[0m         \u001b[0mframes\u001b[0m \u001b[0;34m=\u001b[0m \u001b[0mself\u001b[0m\u001b[0;34m.\u001b[0m\u001b[0mformat_records\u001b[0m\u001b[0;34m(\u001b[0m\u001b[0mrecords\u001b[0m\u001b[0;34m,\u001b[0m \u001b[0mlast_unique\u001b[0m\u001b[0;34m,\u001b[0m \u001b[0mrecursion_repeat\u001b[0m\u001b[0;34m)\u001b[0m\u001b[0;34m\u001b[0m\u001b[0;34m\u001b[0m\u001b[0m\n",
      "\u001b[0;32m~/miniconda3/envs/test_env/lib/python3.9/site-packages/IPython/core/ultratb.py\u001b[0m in \u001b[0;36mfind_recursion\u001b[0;34m(etype, value, records)\u001b[0m\n\u001b[1;32m    380\u001b[0m     \u001b[0;31m# first frame (from in to out) that looks different.\u001b[0m\u001b[0;34m\u001b[0m\u001b[0;34m\u001b[0m\u001b[0m\n\u001b[1;32m    381\u001b[0m     \u001b[0;32mif\u001b[0m \u001b[0;32mnot\u001b[0m \u001b[0mis_recursion_error\u001b[0m\u001b[0;34m(\u001b[0m\u001b[0metype\u001b[0m\u001b[0;34m,\u001b[0m \u001b[0mvalue\u001b[0m\u001b[0;34m,\u001b[0m \u001b[0mrecords\u001b[0m\u001b[0;34m)\u001b[0m\u001b[0;34m:\u001b[0m\u001b[0;34m\u001b[0m\u001b[0;34m\u001b[0m\u001b[0m\n\u001b[0;32m--> 382\u001b[0;31m         \u001b[0;32mreturn\u001b[0m \u001b[0mlen\u001b[0m\u001b[0;34m(\u001b[0m\u001b[0mrecords\u001b[0m\u001b[0;34m)\u001b[0m\u001b[0;34m,\u001b[0m \u001b[0;36m0\u001b[0m\u001b[0;34m\u001b[0m\u001b[0;34m\u001b[0m\u001b[0m\n\u001b[0m\u001b[1;32m    383\u001b[0m \u001b[0;34m\u001b[0m\u001b[0m\n\u001b[1;32m    384\u001b[0m     \u001b[0;31m# Select filename, lineno, func_name to track frames with\u001b[0m\u001b[0;34m\u001b[0m\u001b[0;34m\u001b[0m\u001b[0m\n",
      "\u001b[0;31mTypeError\u001b[0m: object of type 'NoneType' has no len()"
     ]
    }
   ],
   "source": [
    "sub_cycles = []\n",
    "ads_cycles = []\n",
    "sys_cycles = []\n",
    "guessp_cycles = []\n",
    "for structure in input_names[0:9]:\n",
    "    output_sys = Crystal_output('%s.out'%structure)\n",
    "    if output_sys.converged == True:\n",
    "        sys_cycles.append(output_sys.get_num_cycles())\n",
    "    else:\n",
    "        sys_cycles.append('NC')\n",
    "    \n",
    "    output_sub = Crystal_output('%s_sub.out'%structure)\n",
    "    if output_sub.converged == True:\n",
    "        sub_cycles.append(output_sub.get_num_cycles())\n",
    "    else:\n",
    "        sub_cycles.append('NC')\n",
    "        \n",
    "    output_ads = Crystal_output('%s_ads.out'%structure)\n",
    "    if output_ads.converged == True:\n",
    "        ads_cycles.append(output_ads.get_num_cycles())\n",
    "    else:\n",
    "        ads_cycles.append('NC')\n",
    "    \n",
    "    output_guessp = Crystal_output('%s_guessp.out'%structure)\n",
    "    if output_guessp.converged == True:\n",
    "        guessp_cycles.append(output_guessp.get_num_cycles())\n",
    "    else:\n",
    "        guessp_cycles.append('NC')"
   ]
  },
  {
   "cell_type": "code",
   "execution_count": null,
   "id": "5dca9f20",
   "metadata": {},
   "outputs": [],
   "source": [
    "df = pd.DataFrame(list(zip(input_names,sys_cycles,sub_cycles,ads_cycles, guessp_cycles)),\n",
    "                 columns=['Name','Sys cycles','Sub cycles','Ads cycles','Sys guessp cycles'])\n",
    "df"
   ]
  },
  {
   "cell_type": "markdown",
   "id": "b09705a9",
   "metadata": {},
   "source": [
    "## Calculate the Adsorbtion energy"
   ]
  },
  {
   "cell_type": "code",
   "execution_count": null,
   "id": "ebc47c19",
   "metadata": {},
   "outputs": [],
   "source": [
    "sub_E = []\n",
    "ads_E = []\n",
    "guessp_E = []\n",
    "for structure in input_names[0:9]:\n",
    "    \n",
    "    output_sub = Crystal_output('%s_sub.out'%structure)\n",
    "    if output_sub.converged == True:\n",
    "        sub_E.append(output_sub.get_final_energy())\n",
    "    else:\n",
    "        sub_E.append('NC')\n",
    "        \n",
    "    output_ads = Crystal_output('%s_ads.out'%structure)\n",
    "    if output_ads.converged == True:\n",
    "        ads_E.append(output_ads.get_final_energy())\n",
    "    else:\n",
    "        ads_E.append('NC')\n",
    "    \n",
    "    output_guessp = Crystal_output('%s_guessp.out'%structure)\n",
    "    if output_guessp.converged == True:\n",
    "        guessp_E.append(output_guessp.get_final_energy())\n",
    "    else:\n",
    "        guessp_E.append('NC')\n",
    "energy_adsorption = (guessp_E - (sub_E+ads_E))/2.\n"
   ]
  },
  {
   "cell_type": "code",
   "execution_count": null,
   "id": "d3aab63b",
   "metadata": {},
   "outputs": [],
   "source": [
    "df = pd.DataFrame(list(zip(input_names,sub_E,ads_E,guessp_E, energy_adsorption)),\n",
    "                 columns=['Name','Sub E','Ads E','Sys E','Adsorption Energy'])\n",
    "df"
   ]
  },
  {
   "cell_type": "code",
   "execution_count": null,
   "id": "1f57bcf1",
   "metadata": {},
   "outputs": [],
   "source": [
    "files = [path+'system.out',path+'system_guessp_p_sum.out']\n",
    "#,'data/system_guessp_fock0.out']\n",
    "energy = []\n",
    "cycles = []\n",
    "e_ads = []\n",
    "final_energy = []\n",
    "for file in files:\n",
    "    energy.append(Crystal_output(file).final_energy())\n",
    "    cycles.append(Crystal_output(file).num_cycles())\n",
    "    e_ads.append(cry_ads_energy(Crystal_output(file).final_energy(),\n",
    "                                Crystal_output(path+'substrate.out').final_energy(),\n",
    "                                Crystal_output(path+'adsorbate.out').final_energy()))\n",
    "    final_energy.append(Crystal_output(file).final_energy())\n",
    "    "
   ]
  },
  {
   "cell_type": "code",
   "execution_count": null,
   "id": "e2cd18e5",
   "metadata": {},
   "outputs": [],
   "source": [
    "df = pd.DataFrame(list(zip(files,cycles,e_ads,final_energy)),\n",
    "                 columns=['Name','Cycles','E ads','Final Energy'])\n",
    "df"
   ]
  },
  {
   "cell_type": "markdown",
   "id": "dbbba95a",
   "metadata": {},
   "source": [
    "# TEST MgO"
   ]
  },
  {
   "cell_type": "code",
   "execution_count": null,
   "id": "d0b4c4af",
   "metadata": {},
   "outputs": [],
   "source": [
    "write_crystal_gui('data/test/mgo.gui',mgo)\n",
    "crystal_input = Crystal_input('data/test/crystal_input.d12')\n",
    "write_crystal_input('data/test/mgo.d12',crystal_input=crystal_input)\n",
    "\n",
    "input_name = 'data/test/mgo.d12'\n",
    "path = 'data/test/'\n",
    "#System\n",
    "system_inp = Crystal_input('data/test/crystal_input.d12')\n",
    "system_inp.opt_to_sp()\n",
    "bsse_sub_inp_name = path+'system.d12'\n",
    "write_crystal_input(bsse_sub_inp_name,system_inp)\n",
    "\n",
    "shutil.copy(input_name[:-4]+'.gui',path+'system.gui')\n",
    "\n",
    "#Substrate\n",
    "\n",
    "bsse_sub_inp = Crystal_input('data/test/crystal_input.d12')\n",
    "bsse_sub_inp.add_ghost([1])\n",
    "bsse_sub_inp.opt_to_sp()\n",
    "bsse_sub_inp_name = path+'substrate.d12'\n",
    "write_crystal_input(bsse_sub_inp_name,bsse_sub_inp)\n",
    "\n",
    "shutil.copy(input_name[:-4]+'.gui',path+'substrate.gui')\n",
    "\n",
    "#Adsorbate\n",
    "bsse_ads_inp = Crystal_input('data/test/crystal_input.d12')\n",
    "bsse_ads_inp.add_ghost([2])\n",
    "bsse_sub_inp.opt_to_sp()\n",
    "bsse_ads_inp_name = path+'adsorbate.d12'\n",
    "write_crystal_input(bsse_ads_inp_name,bsse_ads_inp)\n",
    "\n",
    "shutil.copy(input_name[:-4]+'.gui',path+'adsorbate.gui')"
   ]
  },
  {
   "cell_type": "code",
   "execution_count": null,
   "id": "01113a7b",
   "metadata": {},
   "outputs": [],
   "source": [
    "import sys\n",
    "sys.path.insert(1,'../../crystal-code-tools/crystal_functions/crystal_functions/')\n",
    "from file_readwrite import Crystal_density, cry_combine_density\n",
    "\n",
    "density1 = Crystal_density('data/test/substrate.f98')\n",
    "density2 = Crystal_density('data/test/adsorbate.f98')\n",
    "\n",
    "cry_combine_density('data/test/substrate.f98','data/test/adsorbate.f98','data/test/mgo.f98','data/test/new_density.f98')"
   ]
  },
  {
   "cell_type": "code",
   "execution_count": null,
   "id": "416018b1",
   "metadata": {},
   "outputs": [],
   "source": []
  }
 ],
 "metadata": {
  "kernelspec": {
   "display_name": "Python 3 (ipykernel)",
   "language": "python",
   "name": "python3"
  },
  "language_info": {
   "codemirror_mode": {
    "name": "ipython",
    "version": 3
   },
   "file_extension": ".py",
   "mimetype": "text/x-python",
   "name": "python",
   "nbconvert_exporter": "python",
   "pygments_lexer": "ipython3",
   "version": "3.9.10"
  }
 },
 "nbformat": 4,
 "nbformat_minor": 5
}
